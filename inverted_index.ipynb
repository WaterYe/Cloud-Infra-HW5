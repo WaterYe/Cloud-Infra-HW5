{
 "cells": [
  {
   "cell_type": "code",
   "execution_count": 33,
   "metadata": {},
   "outputs": [],
   "source": [
    "from pyspark import SparkConf,SparkContext\n",
    "conf = SparkConf ()\n",
    "sc = SparkContext.getOrCreate(conf = conf)"
   ]
  },
  {
   "cell_type": "code",
   "execution_count": 34,
   "metadata": {},
   "outputs": [],
   "source": [
    "stopwords = [\"they\", \"she\", \"he\", \"it\", \"the\", \"as\", \"is\", \"and\"]"
   ]
  },
  {
   "cell_type": "code",
   "execution_count": 35,
   "metadata": {},
   "outputs": [
    {
     "data": {
      "text/plain": [
       "[('comedy',\n",
       "  [('file:/Data/comedies/comedyoferrors', 12),\n",
       "   ('file:/Data/Hugo/Miserables.txt', 3),\n",
       "   ('file:/Data/Hugo/NotreDame_De_Paris.txt', 2),\n",
       "   ('file:/Data/Tolstoy/anna_karenhina.txt', 1),\n",
       "   ('file:/Data/Tolstoy/war_and_peace.txt', 2),\n",
       "   ('file:/Data/comedies/midsummersnightsdream', 1)]),\n",
       " ('of',\n",
       "  [('file:/Data/comedies/comedyoferrors', 618),\n",
       "   ('file:/Data/comedies/cymbeline', 520),\n",
       "   ('file:/Data/comedies/measureforemeasure', 381),\n",
       "   ('file:/Data/comedies/muchadoaboutnothing', 358),\n",
       "   ('file:/Data/comedies/periclesprinceoftyre', 356),\n",
       "   ('file:/Data/comedies/tempest', 294),\n",
       "   ('file:/Data/histories/1kinghenryvi', 659),\n",
       "   ('file:/Data/histories/2kinghenryiv', 628),\n",
       "   ('file:/Data/histories/2kinghenryvi', 542),\n",
       "   ('file:/Data/histories/kinghenryv', 736),\n",
       "   ('file:/Data/histories/kinghenryviii', 535),\n",
       "   ('file:/Data/histories/kingjohn', 561),\n",
       "   ('file:/Data/histories/kingrichardii', 732),\n",
       "   ('file:/Data/poetry/loverscomplaint', 72),\n",
       "   ('file:/Data/poetry/various', 42),\n",
       "   ('file:/Data/poetry/venusandadonis', 126),\n",
       "   ('file:/Data/tragedies/macbeth', 346),\n",
       "   ('file:/Data/Hugo/Miserables.txt', 19865),\n",
       "   ('file:/Data/Hugo/NotreDame_De_Paris.txt', 7333),\n",
       "   ('file:/Data/Tolstoy/anna_karenhina.txt', 8641),\n",
       "   ('file:/Data/Tolstoy/war_and_peace.txt', 14902),\n",
       "   ('file:/Data/comedies/allswellthatendswell', 455),\n",
       "   ('file:/Data/comedies/asyoulikeit', 421),\n",
       "   ('file:/Data/comedies/loveslabourslost', 440),\n",
       "   ('file:/Data/comedies/merchantofvenice', 475),\n",
       "   ('file:/Data/comedies/merrywivesofwindsor', 418),\n",
       "   ('file:/Data/comedies/midsummersnightsdream', 270),\n",
       "   ('file:/Data/comedies/tamingoftheshrew', 260),\n",
       "   ('file:/Data/comedies/troilusandcressida', 503),\n",
       "   ('file:/Data/comedies/twelfthnight', 407),\n",
       "   ('file:/Data/comedies/twogentlemenofverona', 252),\n",
       "   ('file:/Data/comedies/winterstale', 474),\n",
       "   ('file:/Data/histories/1kinghenryiv', 697),\n",
       "   ('file:/Data/histories/3kinghenryvi', 433),\n",
       "   ('file:/Data/histories/kingrichardiii', 742),\n",
       "   ('file:/Data/poetry/rapeoflucrece', 264),\n",
       "   ('file:/Data/poetry/sonnets', 372),\n",
       "   ('file:/Data/tragedies/antonyandcleopatra', 447),\n",
       "   ('file:/Data/tragedies/coriolanus', 476),\n",
       "   ('file:/Data/tragedies/hamlet', 666),\n",
       "   ('file:/Data/tragedies/juliuscaesar', 364),\n",
       "   ('file:/Data/tragedies/kinglear', 475),\n",
       "   ('file:/Data/tragedies/othello', 473),\n",
       "   ('file:/Data/tragedies/romeoandjuliet', 392),\n",
       "   ('file:/Data/tragedies/timonofathens', 342),\n",
       "   ('file:/Data/tragedies/titusandronicus', 322)]),\n",
       " ('errors',\n",
       "  [('file:/Data/comedies/comedyoferrors', 13),\n",
       "   ('file:/Data/comedies/muchadoaboutnothing', 1),\n",
       "   ('file:/Data/poetry/loverscomplaint', 1),\n",
       "   ('file:/Data/Hugo/Miserables.txt', 5),\n",
       "   ('file:/Data/Hugo/NotreDame_De_Paris.txt', 2),\n",
       "   ('file:/Data/Tolstoy/anna_karenhina.txt', 1),\n",
       "   ('file:/Data/Tolstoy/war_and_peace.txt', 1),\n",
       "   ('file:/Data/comedies/troilusandcressida', 1),\n",
       "   ('file:/Data/poetry/rapeoflucrece', 1),\n",
       "   ('file:/Data/poetry/sonnets', 4)]),\n",
       " ('dramatis',\n",
       "  [('file:/Data/comedies/comedyoferrors', 1),\n",
       "   ('file:/Data/comedies/cymbeline', 1),\n",
       "   ('file:/Data/comedies/measureforemeasure', 1),\n",
       "   ('file:/Data/comedies/muchadoaboutnothing', 1),\n",
       "   ('file:/Data/comedies/periclesprinceoftyre', 1),\n",
       "   ('file:/Data/comedies/tempest', 1),\n",
       "   ('file:/Data/histories/1kinghenryvi', 1),\n",
       "   ('file:/Data/histories/2kinghenryiv', 1),\n",
       "   ('file:/Data/histories/2kinghenryvi', 1),\n",
       "   ('file:/Data/histories/kinghenryv', 1),\n",
       "   ('file:/Data/histories/kinghenryviii', 1),\n",
       "   ('file:/Data/histories/kingjohn', 1),\n",
       "   ('file:/Data/histories/kingrichardii', 1),\n",
       "   ('file:/Data/tragedies/macbeth', 1),\n",
       "   ('file:/Data/comedies/allswellthatendswell', 1),\n",
       "   ('file:/Data/comedies/asyoulikeit', 1),\n",
       "   ('file:/Data/comedies/loveslabourslost', 1),\n",
       "   ('file:/Data/comedies/merchantofvenice', 1),\n",
       "   ('file:/Data/comedies/merrywivesofwindsor', 1),\n",
       "   ('file:/Data/comedies/midsummersnightsdream', 1),\n",
       "   ('file:/Data/comedies/tamingoftheshrew', 1),\n",
       "   ('file:/Data/comedies/troilusandcressida', 1),\n",
       "   ('file:/Data/comedies/twelfthnight', 1),\n",
       "   ('file:/Data/comedies/twogentlemenofverona', 1),\n",
       "   ('file:/Data/comedies/winterstale', 1),\n",
       "   ('file:/Data/histories/1kinghenryiv', 1),\n",
       "   ('file:/Data/histories/3kinghenryvi', 1),\n",
       "   ('file:/Data/histories/kingrichardiii', 1),\n",
       "   ('file:/Data/tragedies/antonyandcleopatra', 1),\n",
       "   ('file:/Data/tragedies/coriolanus', 1),\n",
       "   ('file:/Data/tragedies/hamlet', 1),\n",
       "   ('file:/Data/tragedies/juliuscaesar', 1),\n",
       "   ('file:/Data/tragedies/kinglear', 1),\n",
       "   ('file:/Data/tragedies/othello', 1),\n",
       "   ('file:/Data/tragedies/romeoandjuliet', 1),\n",
       "   ('file:/Data/tragedies/timonofathens', 1),\n",
       "   ('file:/Data/tragedies/titusandronicus', 1)]),\n",
       " ('ephesus.',\n",
       "  [('file:/Data/comedies/comedyoferrors', 8),\n",
       "   ('file:/Data/comedies/periclesprinceoftyre', 3)])]"
      ]
     },
     "execution_count": 35,
     "metadata": {},
     "output_type": "execute_result"
    }
   ],
   "source": [
    "rdd = sc.wholeTextFiles(\"/Data/*/*\").flatMap(lambda x: [(word, x[0]) for word in x[1].lower().split()])\\\n",
    "        .filter(lambda x: x[0] not in stopwords).map(lambda x: (x, 1)).reduceByKey(lambda a, b: a + b).map(lambda x: (x[0][0], [(x[0][1], x[1])]))\\\n",
    "        .reduceByKey(lambda a, b: a + b)\n",
    "rdd.take(5)"
   ]
  },
  {
   "cell_type": "code",
   "execution_count": 36,
   "metadata": {},
   "outputs": [],
   "source": [
    "rdd.coalesce(1).saveAsTextFile('./output')"
   ]
  },
  {
   "cell_type": "code",
   "execution_count": null,
   "metadata": {},
   "outputs": [],
   "source": []
  }
 ],
 "metadata": {
  "kernelspec": {
   "display_name": "Python 3",
   "language": "python",
   "name": "python3"
  },
  "language_info": {
   "codemirror_mode": {
    "name": "ipython",
    "version": 3
   },
   "file_extension": ".py",
   "mimetype": "text/x-python",
   "name": "python",
   "nbconvert_exporter": "python",
   "pygments_lexer": "ipython3",
   "version": "3.7.9"
  }
 },
 "nbformat": 4,
 "nbformat_minor": 4
}
